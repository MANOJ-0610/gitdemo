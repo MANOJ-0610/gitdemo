{
  "nbformat": 4,
  "nbformat_minor": 0,
  "metadata": {
    "colab": {
      "provenance": [],
      "mount_file_id": "1CHIUBP4rjF_Aq-M6mLQw1HMyGceukGbW",
      "authorship_tag": "ABX9TyPgvdzmrgkMFUR/evicRZuv",
      "include_colab_link": true
    },
    "kernelspec": {
      "name": "python3",
      "display_name": "Python 3"
    },
    "language_info": {
      "name": "python"
    }
  },
  "cells": [
    {
      "cell_type": "markdown",
      "metadata": {
        "id": "view-in-github",
        "colab_type": "text"
      },
      "source": [
        "<a href=\"https://colab.research.google.com/github/MANOJ-0610/gitdemo/blob/main/File_Handling.ipynb\" target=\"_parent\"><img src=\"https://colab.research.google.com/assets/colab-badge.svg\" alt=\"Open In Colab\"/></a>"
      ]
    },
    {
      "cell_type": "code",
      "execution_count": 36,
      "metadata": {
        "id": "mSWso-Szvlou"
      },
      "outputs": [],
      "source": [
        "# Import package for navigating through files stored on your device/on Google Colaboratory\n",
        "import os\n",
        "\n",
        "# Import package for working with JSON files\n",
        "import json\n",
        "\n",
        "# Import package for working with CSV files\n",
        "import pandas as pd\n",
        "\n",
        "\n",
        "\n"
      ]
    },
    {
      "cell_type": "code",
      "source": [
        "from google.colab import files\n",
        "uploaded = files.upload()\n",
        "!unzip /content/mainfolder.zip\n",
        "\n"
      ],
      "metadata": {
        "colab": {
          "base_uri": "https://localhost:8080/",
          "height": 507
        },
        "id": "qtchbRhBpCPX",
        "outputId": "0bf3440c-b546-41f0-b05a-26bec541846f"
      },
      "execution_count": 87,
      "outputs": [
        {
          "output_type": "display_data",
          "data": {
            "text/plain": [
              "<IPython.core.display.HTML object>"
            ],
            "text/html": [
              "\n",
              "     <input type=\"file\" id=\"files-b2c440f1-9d18-4553-ae0f-8e61ab24db2f\" name=\"files[]\" multiple disabled\n",
              "        style=\"border:none\" />\n",
              "     <output id=\"result-b2c440f1-9d18-4553-ae0f-8e61ab24db2f\">\n",
              "      Upload widget is only available when the cell has been executed in the\n",
              "      current browser session. Please rerun this cell to enable.\n",
              "      </output>\n",
              "      <script>// Copyright 2017 Google LLC\n",
              "//\n",
              "// Licensed under the Apache License, Version 2.0 (the \"License\");\n",
              "// you may not use this file except in compliance with the License.\n",
              "// You may obtain a copy of the License at\n",
              "//\n",
              "//      http://www.apache.org/licenses/LICENSE-2.0\n",
              "//\n",
              "// Unless required by applicable law or agreed to in writing, software\n",
              "// distributed under the License is distributed on an \"AS IS\" BASIS,\n",
              "// WITHOUT WARRANTIES OR CONDITIONS OF ANY KIND, either express or implied.\n",
              "// See the License for the specific language governing permissions and\n",
              "// limitations under the License.\n",
              "\n",
              "/**\n",
              " * @fileoverview Helpers for google.colab Python module.\n",
              " */\n",
              "(function(scope) {\n",
              "function span(text, styleAttributes = {}) {\n",
              "  const element = document.createElement('span');\n",
              "  element.textContent = text;\n",
              "  for (const key of Object.keys(styleAttributes)) {\n",
              "    element.style[key] = styleAttributes[key];\n",
              "  }\n",
              "  return element;\n",
              "}\n",
              "\n",
              "// Max number of bytes which will be uploaded at a time.\n",
              "const MAX_PAYLOAD_SIZE = 100 * 1024;\n",
              "\n",
              "function _uploadFiles(inputId, outputId) {\n",
              "  const steps = uploadFilesStep(inputId, outputId);\n",
              "  const outputElement = document.getElementById(outputId);\n",
              "  // Cache steps on the outputElement to make it available for the next call\n",
              "  // to uploadFilesContinue from Python.\n",
              "  outputElement.steps = steps;\n",
              "\n",
              "  return _uploadFilesContinue(outputId);\n",
              "}\n",
              "\n",
              "// This is roughly an async generator (not supported in the browser yet),\n",
              "// where there are multiple asynchronous steps and the Python side is going\n",
              "// to poll for completion of each step.\n",
              "// This uses a Promise to block the python side on completion of each step,\n",
              "// then passes the result of the previous step as the input to the next step.\n",
              "function _uploadFilesContinue(outputId) {\n",
              "  const outputElement = document.getElementById(outputId);\n",
              "  const steps = outputElement.steps;\n",
              "\n",
              "  const next = steps.next(outputElement.lastPromiseValue);\n",
              "  return Promise.resolve(next.value.promise).then((value) => {\n",
              "    // Cache the last promise value to make it available to the next\n",
              "    // step of the generator.\n",
              "    outputElement.lastPromiseValue = value;\n",
              "    return next.value.response;\n",
              "  });\n",
              "}\n",
              "\n",
              "/**\n",
              " * Generator function which is called between each async step of the upload\n",
              " * process.\n",
              " * @param {string} inputId Element ID of the input file picker element.\n",
              " * @param {string} outputId Element ID of the output display.\n",
              " * @return {!Iterable<!Object>} Iterable of next steps.\n",
              " */\n",
              "function* uploadFilesStep(inputId, outputId) {\n",
              "  const inputElement = document.getElementById(inputId);\n",
              "  inputElement.disabled = false;\n",
              "\n",
              "  const outputElement = document.getElementById(outputId);\n",
              "  outputElement.innerHTML = '';\n",
              "\n",
              "  const pickedPromise = new Promise((resolve) => {\n",
              "    inputElement.addEventListener('change', (e) => {\n",
              "      resolve(e.target.files);\n",
              "    });\n",
              "  });\n",
              "\n",
              "  const cancel = document.createElement('button');\n",
              "  inputElement.parentElement.appendChild(cancel);\n",
              "  cancel.textContent = 'Cancel upload';\n",
              "  const cancelPromise = new Promise((resolve) => {\n",
              "    cancel.onclick = () => {\n",
              "      resolve(null);\n",
              "    };\n",
              "  });\n",
              "\n",
              "  // Wait for the user to pick the files.\n",
              "  const files = yield {\n",
              "    promise: Promise.race([pickedPromise, cancelPromise]),\n",
              "    response: {\n",
              "      action: 'starting',\n",
              "    }\n",
              "  };\n",
              "\n",
              "  cancel.remove();\n",
              "\n",
              "  // Disable the input element since further picks are not allowed.\n",
              "  inputElement.disabled = true;\n",
              "\n",
              "  if (!files) {\n",
              "    return {\n",
              "      response: {\n",
              "        action: 'complete',\n",
              "      }\n",
              "    };\n",
              "  }\n",
              "\n",
              "  for (const file of files) {\n",
              "    const li = document.createElement('li');\n",
              "    li.append(span(file.name, {fontWeight: 'bold'}));\n",
              "    li.append(span(\n",
              "        `(${file.type || 'n/a'}) - ${file.size} bytes, ` +\n",
              "        `last modified: ${\n",
              "            file.lastModifiedDate ? file.lastModifiedDate.toLocaleDateString() :\n",
              "                                    'n/a'} - `));\n",
              "    const percent = span('0% done');\n",
              "    li.appendChild(percent);\n",
              "\n",
              "    outputElement.appendChild(li);\n",
              "\n",
              "    const fileDataPromise = new Promise((resolve) => {\n",
              "      const reader = new FileReader();\n",
              "      reader.onload = (e) => {\n",
              "        resolve(e.target.result);\n",
              "      };\n",
              "      reader.readAsArrayBuffer(file);\n",
              "    });\n",
              "    // Wait for the data to be ready.\n",
              "    let fileData = yield {\n",
              "      promise: fileDataPromise,\n",
              "      response: {\n",
              "        action: 'continue',\n",
              "      }\n",
              "    };\n",
              "\n",
              "    // Use a chunked sending to avoid message size limits. See b/62115660.\n",
              "    let position = 0;\n",
              "    do {\n",
              "      const length = Math.min(fileData.byteLength - position, MAX_PAYLOAD_SIZE);\n",
              "      const chunk = new Uint8Array(fileData, position, length);\n",
              "      position += length;\n",
              "\n",
              "      const base64 = btoa(String.fromCharCode.apply(null, chunk));\n",
              "      yield {\n",
              "        response: {\n",
              "          action: 'append',\n",
              "          file: file.name,\n",
              "          data: base64,\n",
              "        },\n",
              "      };\n",
              "\n",
              "      let percentDone = fileData.byteLength === 0 ?\n",
              "          100 :\n",
              "          Math.round((position / fileData.byteLength) * 100);\n",
              "      percent.textContent = `${percentDone}% done`;\n",
              "\n",
              "    } while (position < fileData.byteLength);\n",
              "  }\n",
              "\n",
              "  // All done.\n",
              "  yield {\n",
              "    response: {\n",
              "      action: 'complete',\n",
              "    }\n",
              "  };\n",
              "}\n",
              "\n",
              "scope.google = scope.google || {};\n",
              "scope.google.colab = scope.google.colab || {};\n",
              "scope.google.colab._files = {\n",
              "  _uploadFiles,\n",
              "  _uploadFilesContinue,\n",
              "};\n",
              "})(self);\n",
              "</script> "
            ]
          },
          "metadata": {}
        },
        {
          "output_type": "stream",
          "name": "stdout",
          "text": [
            "Saving mainfolder.zip to mainfolder.zip\n",
            "Archive:  /content/mainfolder.zip\n",
            "   creating: mainfolder/\n",
            "   creating: mainfolder/product_descriptions/\n",
            "  inflating: mainfolder/product_descriptions/description_AISJDKFJW93NJ.txt  \n",
            "  inflating: mainfolder/product_descriptions/description_DJKFIEI432FIE.txt  \n",
            "  inflating: mainfolder/product_descriptions/description_GGOENEBJ079499.txt  \n",
            "  inflating: mainfolder/product_descriptions/description_HJSKNWK429DJE.txt  \n",
            "  inflating: mainfolder/product_descriptions/description_JFKL3940NFKLJ.txt  \n",
            "  inflating: mainfolder/product_descriptions/description_LKDFJ49LSDJKL.txt  \n",
            "  inflating: mainfolder/product_descriptions/description_MWKDI3JFK39SL.txt  \n",
            "  inflating: mainfolder/product_descriptions/description_NEKFJOWE9FDIW.txt  \n",
            "  inflating: mainfolder/product_descriptions/description_OWEJL398FWJLK.txt  \n",
            "  inflating: mainfolder/product_descriptions/description_XPLFJW2490XJN.txt  \n",
            "   creating: mainfolder/product_details/\n",
            "  inflating: mainfolder/product_details/details_AISJDKFJW93NJ.json  \n",
            "  inflating: mainfolder/product_details/details_DJKFIEI432FIE.json  \n",
            "  inflating: mainfolder/product_details/details_GGOENEBJ079499.json  \n",
            "  inflating: mainfolder/product_details/details_HJSKNWK429DJE.json  \n",
            "  inflating: mainfolder/product_details/details_JFKL3940NFKLJ.json  \n",
            "  inflating: mainfolder/product_details/details_LKDFJ49LSDJKL.json  \n",
            "  inflating: mainfolder/product_details/details_MWKDI3JFK39SL.json  \n",
            "  inflating: mainfolder/product_details/details_NEKFJOWE9FDIW.json  \n",
            "  inflating: mainfolder/product_details/details_OWEJL398FWJLK.json  \n",
            "  inflating: mainfolder/product_details/details_XPLFJW2490XJN.json  \n",
            "  inflating: mainfolder/sales_data.csv  \n"
          ]
        }
      ]
    },
    {
      "cell_type": "code",
      "source": [],
      "metadata": {
        "id": "9mVyJe297hnt"
      },
      "execution_count": null,
      "outputs": []
    },
    {
      "cell_type": "code",
      "source": [
        "def load_data(main_folder):\n",
        "# Initialize dictionaries to store data\n",
        " product_details = {}\n",
        " product_descriptions = {}\n",
        " sales_data = {}\n",
        "\n",
        "    # Load sales data from CSV\n",
        " sales_data_path = os.path.join(main_folder, 'sales_data.csv')\n",
        " if os.path.exists(sales_data_path):\n",
        "        sales_df = pd.read_csv(sales_data_path)\n",
        "        sales_data = {\n",
        "            row['Product_SKU']: row.iloc[1:].tolist()\n",
        "            for _, row in sales_df.iterrows()\n",
        "        }\n",
        " else:\n",
        "        print(f\"Sales data file not found at: {sales_data_path}\")\n",
        "\n",
        "    # Load product descriptions from TXT files\n",
        " descriptions_folder = os.path.join(main_folder, 'product_descriptions')\n",
        " if os.path.exists(descriptions_folder):\n",
        "        for file in os.listdir(descriptions_folder):\n",
        "            if file.endswith('.txt'):\n",
        "                sku = file.split('_')[1].split('.')[0]\n",
        "                with open(os.path.join(descriptions_folder, file), 'r') as f:\n",
        "                    product_descriptions[sku] = f.read()\n",
        " else:\n",
        "       print(f\"Product descriptions folder not found at: {descriptions_folder}\")\n",
        "\n",
        "    # Load product details from JSON files\n",
        " details_folder = os.path.join(main_folder, 'product_details')\n",
        " if os.path.exists(details_folder):\n",
        "        for file in os.listdir(details_folder):\n",
        "            if file.endswith('.json'):\n",
        "                sku = file.split('_')[1].split('.')[0]\n",
        "                with open(os.path.join(details_folder, file), 'r') as f:\n",
        "                    product_details[sku] = json.load(f)\n",
        " else:\n",
        "        print(f\"Product details folder not found at: {details_folder}\")\n",
        " return product_details, sales_data, product_descriptions"
      ],
      "metadata": {
        "id": "LXfKdjNbskxH"
      },
      "execution_count": 23,
      "outputs": []
    },
    {
      "cell_type": "code",
      "source": [
        "main_folder = '/content/mainfolder'\n",
        "product_details, sales_data, product_descriptions = load_data(main_folder)\n"
      ],
      "metadata": {
        "id": "Zrc0CeFl6NGu"
      },
      "execution_count": 24,
      "outputs": []
    },
    {
      "cell_type": "code",
      "source": [
        "def update_sales_data(sales_data, sku, quantities):\n",
        "  if sku in sales_data:\n",
        "        # If the SKU exists, update its sales data with the new quantities\n",
        "        sales_data[sku] = quantities\n",
        "  else:\n",
        "        # If the SKU doesn't exist, add a new entry for this SKU with the provided sales data\n",
        "        sales_data[sku] = quantities\n",
        "\n",
        "  return sales_data\n"
      ],
      "metadata": {
        "id": "gs8qjUPa819n"
      },
      "execution_count": 30,
      "outputs": []
    },
    {
      "cell_type": "code",
      "source": [
        "sales_data = update_sales_data(sales_data,\n",
        "sku = 'CMWKCILOP27KF',\n",
        "quantities = [8, 14, 16, 7, 15, 21, 14, 16, 32, 29, 26, 30, 25, 22])\n",
        "sales_data\n"
      ],
      "metadata": {
        "colab": {
          "base_uri": "https://localhost:8080/"
        },
        "id": "Sh7iBBHO-7VQ",
        "outputId": "734c2c11-782a-4339-bfd1-5d1515213e28"
      },
      "execution_count": 49,
      "outputs": [
        {
          "output_type": "execute_result",
          "data": {
            "text/plain": [
              "{'AISJDKFJW93NJ': [10, 12, 15, 18, 20, 22, 25, 28, 26, 30, 32, 29, 27, 24],\n",
              " 'DJKFIEI432FIE': [8, 10, 12, 15, 20, 18, 14, 13, 17, 10, 8, 11, 14, 16],\n",
              " 'GGOENEBJ079499': [15, 18, 22, 25, 28, 20, 17, 23, 19, 21, 24, 27, 18, 20],\n",
              " 'HJSKNWK429DJE': [30, 32, 35, 38, 40, 42, 45, 48, 50, 52, 55, 53, 49, 47],\n",
              " 'JFKL3940NFKLJ': [18, 20, 22, 25, 28, 30, 32, 35, 38, 36, 33, 29, 26, 24],\n",
              " 'LKDFJ49LSDJKL': [25, 28, 30, 32, 35, 38, 42, 40, 37, 34, 36, 31, 29, 27],\n",
              " 'MWKDI3JFK39SL': [30, 35, 40, 45, 50, 42, 37, 38, 41, 36, 33, 39, 40, 44],\n",
              " 'NEKFJOWE9FDIW': [12, 15, 18, 20, 22, 24, 21, 23, 25, 28, 30, 27, 26, 29],\n",
              " 'OWEJL398FWJLK': [20, 22, 25, 28, 30, 32, 35, 38, 36, 33, 29, 26, 24, 27],\n",
              " 'XPLFJW2490XJN': [5, 8, 9, 12, 15, 10, 14, 16, 20, 18, 22, 25, 19, 21],\n",
              " 'CMWKCILOP27KF': [8, 14, 16, 7, 15, 21, 14, 16, 32, 29, 26, 30, 25, 22]}"
            ]
          },
          "metadata": {},
          "execution_count": 49
        }
      ]
    },
    {
      "cell_type": "code",
      "source": [
        "def update_product_details(product_details, sku, product_info):\n",
        "  if sku in product_details:\n",
        "        # If the SKU exists, update its product details\n",
        "        product_details[sku].update(product_info)\n",
        "  else:\n",
        "        # If the SKU does not exist, create a new entry for the product\n",
        "        product_details[sku] = product_info\n",
        "\n",
        "  return product_details\n",
        ""
      ],
      "metadata": {
        "id": "nfTs3_ITIazr"
      },
      "execution_count": 58,
      "outputs": []
    },
    {
      "cell_type": "code",
      "source": [
        "\n",
        "product_details = update_product_details(product_details, sku = 'CMWKCILOP27KF',\n",
        "                                         product_info=\n",
        "                                              {\n",
        "                                             'Product Name': 'Pokemon Card',\n",
        "                                             'Brand': 'GameFreak',\n",
        "                                             'Model': 'ScarletViolet151',\n",
        "                                             'Specifications': 'Genuine, TCG, English',\n",
        "                                             'Price': 1.99,\n",
        "                                             'Availability': 'In stock'\n",
        "                                             })\n",
        "\n",
        "product_details"
      ],
      "metadata": {
        "colab": {
          "base_uri": "https://localhost:8080/"
        },
        "id": "BtQo-JmXJRjs",
        "outputId": "5df8de32-5194-4b24-eeec-925cca662d84"
      },
      "execution_count": 61,
      "outputs": [
        {
          "output_type": "execute_result",
          "data": {
            "text/plain": [
              "{'JFKL3940NFKLJ': {'product_name': 'Resistance Bands Set',\n",
              "  'brand': 'FitFlex',\n",
              "  'model': 'StrengthPro-300',\n",
              "  'specifications': '5 bands, Varying resistance levels, Portable',\n",
              "  'price': '$34.99',\n",
              "  'availability': 'In stock'},\n",
              " 'NEKFJOWE9FDIW': {'product_name': 'Board Game',\n",
              "  'brand': 'FamilyFun',\n",
              "  'model': 'GameNight-2022',\n",
              "  'specifications': '2-6 players, Ages 8 and up',\n",
              "  'price': '$29.99',\n",
              "  'availability': 'In stock'},\n",
              " 'MWKDI3JFK39SL': {'product_name': 'Fictional Novel',\n",
              "  'brand': 'BestBooks',\n",
              "  'model': None,\n",
              "  'specifications': 'Paperback, 300 pages',\n",
              "  'price': '$14.99',\n",
              "  'availability': 'In stock'},\n",
              " 'LKDFJ49LSDJKL': {'product_name': 'Anti-Aging Face Cream',\n",
              "  'brand': 'GlowBeauty',\n",
              "  'model': 'AgeDefy-300',\n",
              "  'specifications': 'Natural ingredients, Hydrating formula',\n",
              "  'price': '$39.99',\n",
              "  'availability': 'In stock'},\n",
              " 'HJSKNWK429DJE': {'product_name': 'Wireless Earbuds',\n",
              "  'brand': 'SoundSync',\n",
              "  'model': 'TunePro-2022',\n",
              "  'specifications': 'Bluetooth 5.0, 20 hours battery life, Touch controls',\n",
              "  'price': '$89.99',\n",
              "  'availability': 'In stock'},\n",
              " 'DJKFIEI432FIE': {'product_name': \"Men's Running Shoes\",\n",
              "  'brand': 'RunFit',\n",
              "  'model': 'SpeedX-500',\n",
              "  'specifications': 'Size 10, Lightweight design, Breathable material',\n",
              "  'price': '$79.99',\n",
              "  'availability': 'In stock'},\n",
              " 'GGOENEBJ079499': {'product_name': 'Smartphone',\n",
              "  'brand': 'XYZ Electronics',\n",
              "  'model': 'ABC-2000',\n",
              "  'specifications': '6.5-inch display, 128GB storage, 16MP camera',\n",
              "  'price': '$499.99',\n",
              "  'availability': 'In stock'},\n",
              " 'AISJDKFJW93NJ': {'product_name': 'Wall Art Print',\n",
              "  'brand': 'ArtCraft',\n",
              "  'model': 'NatureCanvas-1001',\n",
              "  'specifications': 'Canvas print, Ready to hang',\n",
              "  'price': '$49.99',\n",
              "  'availability': 'In stock'},\n",
              " 'OWEJL398FWJLK': {'product_name': 'Yoga Mat',\n",
              "  'brand': 'ZenFitness',\n",
              "  'model': 'EcoMat-500',\n",
              "  'specifications': 'Non-slip, 6mm thickness, Eco-friendly material',\n",
              "  'price': '$19.99',\n",
              "  'availability': 'In stock'},\n",
              " 'XPLFJW2490XJN': {'product_name': 'Robot Vacuum Cleaner',\n",
              "  'brand': 'CleanTech',\n",
              "  'model': 'AutoSweep-9000',\n",
              "  'specifications': 'Smart navigation, HEPA filter, 90 minutes runtime',\n",
              "  'price': '$249.99',\n",
              "  'availability': 'In stock'},\n",
              " 'CMWKCILOP27KF': {'Product Name': 'Pokemon Card',\n",
              "  'Brand': 'GameFreak',\n",
              "  'Model': 'ScarletViolet151',\n",
              "  'Specifications': 'Genuine, TCG, English',\n",
              "  'Price': 1.99,\n",
              "  'Availability': 'In stock'}}"
            ]
          },
          "metadata": {},
          "execution_count": 61
        }
      ]
    },
    {
      "cell_type": "code",
      "source": [
        "def update_product_description(product_descriptions, sku, description):\n",
        "  if sku in product_descriptions:\n",
        "        # If the SKU exists, update its product description\n",
        "        product_descriptions[sku] = description\n",
        "  else:\n",
        "        # If the SKU does not exist, create a new entry for the product description\n",
        "        product_descriptions[sku] = description\n",
        "\n",
        "  return product_descriptions\n",
        "\n",
        ""
      ],
      "metadata": {
        "id": "ssQ2SU7cNvuM"
      },
      "execution_count": 62,
      "outputs": []
    },
    {
      "cell_type": "code",
      "source": [
        "product_descriptions = update_product_description(product_descriptions, sku = 'CMWKCILOP27KF',\n",
        "description = 'Original Pokemon TCG Pikachu card')\n",
        "product_descriptions"
      ],
      "metadata": {
        "colab": {
          "base_uri": "https://localhost:8080/"
        },
        "id": "wibYksxtOYAb",
        "outputId": "e322945a-6054-43fb-b516-e9d5768621e5"
      },
      "execution_count": 65,
      "outputs": [
        {
          "output_type": "execute_result",
          "data": {
            "text/plain": [
              "{'XPLFJW2490XJN': 'Introducing the CleanTech AutoSweep-9000 Robot Vacuum Cleaner – your smart companion for automated cleaning.\\nWith smart navigation, a HEPA filter, and a runtime of 90 minutes, this efficient device takes care of your cleaning needs.\\nAvailable in White and Silver, it blends seamlessly into your home, making cleanliness a hassle-free experience.',\n",
              " 'HJSKNWK429DJE': \"Immerse yourself in superior audio quality with SoundSync's TunePro-2022 Wireless Earbuds.\\nFeaturing Bluetooth 5.0, 20 hours of battery life, and touch controls, these earbuds deliver a seamless and immersive listening experience.\\nAvailable in Black and White, they combine style with functionality for music lovers on the go. \\nWith a 4.7/5 stars rating, they stand out as a top choice in the realm of wireless audio.\",\n",
              " 'MWKDI3JFK39SL': \"Immerse yourself in the world of storytelling with BestBooks' Fictional Novel.\\nThis paperback, spanning 300 pages, promises a captivating journey through the pages of an engaging narrative.\\nIdeal for avid readers seeking an escape, this novel, with a 4.6/5 stars rating, is a testament to its ability to weave a compelling tale that keeps you hooked until the last page.\",\n",
              " 'AISJDKFJW93NJ': \"Transform your living space with ArtCraft's NatureCanvas-1001 Wall Art Print.\\nThis canvas print, ready to hang, brings the beauty of nature into your home.\\nWith dimensions of 16 x 20 inches and a 4.6/5 stars rating, it's a stunning addition to your decor, creating a focal point that captures attention and sparks conversation.\",\n",
              " 'GGOENEBJ079499': 'Dive into the future with the XYZ Electronics Smartphone, model ABC-2000.\\nBoasting a 6.5-inch display, 128GB storage, and a 16MP camera, this powerful device redefines the smartphone experience.\\nWith a sleek design and available in Black, Silver, and Blue, it combines cutting-edge technology with style, ensuring you stay connected in the most sophisticated way possible.',\n",
              " 'JFKL3940NFKLJ': \"Embrace versatility in your workouts with FitFlex's StrengthPro-300 Resistance Bands Set.\\nWith 5 bands offering varying resistance levels and portability, this set is your go-to for effective strength training.\\nAvailable in Red, Yellow, and Blue, it caters to different fitness levels and adds a dynamic dimension to your exercise routine.\",\n",
              " 'LKDFJ49LSDJKL': \"Rediscover youthful radiance with GlowBeauty's AgeDefy-300 Anti-Aging Face Cream.\\nFormulated with natural ingredients and a hydrating formula, this skincare essential rejuvenates and nourishes your skin, leaving you with a vibrant and refreshed complexion.\\nWith a stellar 4.7/5 stars rating, it's a must-have for those embracing the journey to ageless beauty.\",\n",
              " 'NEKFJOWE9FDIW': \"Unleash the fun with FamilyFun's GameNight-2022 Board Game.\\nDesigned for 2-6 players and suitable for ages 8 and up, this exciting game promises laughter and bonding moments for the entire family.\\nWith a 4.4/5 stars rating, it's a testament to its ability to turn any ordinary night into an extraordinary game night filled with friendly competition and shared joy.\",\n",
              " 'DJKFIEI432FIE': \"Elevate your running experience with the RunFit SpeedX-500 Men's Running Shoes.\\nDesigned for performance, these shoes feature a lightweight design, breathable material, and are available in vibrant Red, Blue, and classic Black.\\nWhether you're a seasoned runner or just starting, these shoes provide comfort and support for every stride, ensuring you reach new milestones effortlessly.\",\n",
              " 'OWEJL398FWJLK': \"Elevate your yoga practice with ZenFitness' EcoMat-500 Yoga Mat.\\nFeaturing a non-slip surface, 6mm thickness, and eco-friendly materials, this high-quality mat provides the perfect foundation for your workouts.\\nAvailable in Purple, Green, and Blue, it not only enhances your comfort but also adds a touch of serenity to your exercise routine.\",\n",
              " 'CMWKCILOP27KF': 'Original Pokemon TCG Pikachu card'}"
            ]
          },
          "metadata": {},
          "execution_count": 65
        }
      ]
    },
    {
      "cell_type": "code",
      "source": [
        "def update(product_details, sales_data, product_descriptions):\n",
        "        # Step 1: Prompt the user for SKU and validate it\n",
        "    sku = input(\"Enter the product SKU (13 characters long): \").strip()\n",
        "    if len(sku) != 13:\n",
        "        print(\"Error: SKU must be exactly 13 characters long.\")\n",
        "        return product_details, sales_data, product_descriptions\n",
        "\n",
        "    # Step 2: Prompt the user for sales data (last 14 days) and validate it\n",
        "    try:\n",
        "        sales_input = input(\"Enter the sales data for the last 14 days, separated by spaces: \")\n",
        "        sales_data_list = list(map(int, sales_input.split()))\n",
        "        if len(sales_data_list) != 14:\n",
        "            print(\"Error: Sales data must consist of exactly 14 whole numbers.\")\n",
        "            return product_details, sales_data, product_descriptions\n",
        "    except ValueError:\n",
        "        print(\"Error: Sales data must contain only whole numbers.\")\n",
        "        return product_details, sales_data, product_descriptions\n",
        "\n",
        "    # Step 3: Prompt the user for product details\n",
        "    product_name = input(\"Enter the product name: \").strip()\n",
        "    brand = input(\"Enter the brand: \").strip()\n",
        "    model = input(\"Enter the model: \").strip()\n",
        "    specifications = input(\"Enter the specifications: \").strip()\n",
        "    try:\n",
        "        price = float(input(\"Enter the price of the product: \").strip())\n",
        "    except ValueError:\n",
        "        print(\"Error: Price must be a valid number.\")\n",
        "        return product_details, sales_data, product_descriptions\n",
        "    availability = input(\"Enter the availability status (e.g., In stock, Out of stock): \").strip()\n",
        "\n",
        "    # Step 4: Prompt the user for product description\n",
        "    description = input(\"Enter the product description: \").strip()\n",
        "\n",
        "    # Step 5: Update the dictionaries\n",
        "    # Update product details\n",
        "    product_info = {\n",
        "        'Product Name': product_name,\n",
        "        'Brand': brand,\n",
        "        'Model': model,\n",
        "        'Specifications': specifications,\n",
        "        'Price': price,\n",
        "        'Availability': availability\n",
        "    }\n",
        "    product_details = update_product_details(product_details, sku, product_info)\n",
        "\n",
        "    # Update sales data\n",
        "    sales_data = update_sales_data(sales_data, sku, sales_data_list)\n",
        "\n",
        "    # Update product description\n",
        "    product_descriptions = update_product_description(product_descriptions, sku, description)\n",
        "\n",
        "    # Return the updated dictionaries\n",
        "    print(\"Product successfully updated.\")\n",
        "    return product_details, sales_data, product_descriptions"
      ],
      "metadata": {
        "id": "587bzMAEOj-a"
      },
      "execution_count": 66,
      "outputs": []
    },
    {
      "cell_type": "code",
      "source": [
        "product_details, sales_data, product_descriptions = update(product_details, sales_data, product_descriptions)"
      ],
      "metadata": {
        "colab": {
          "base_uri": "https://localhost:8080/",
          "height": 287
        },
        "id": "LsH9FPGLPDq0",
        "outputId": "04942496-9da9-4f44-f852-b9c5760248fd"
      },
      "execution_count": 68,
      "outputs": [
        {
          "output_type": "error",
          "ename": "KeyboardInterrupt",
          "evalue": "Interrupted by user",
          "traceback": [
            "\u001b[0;31m---------------------------------------------------------------------------\u001b[0m",
            "\u001b[0;31mKeyboardInterrupt\u001b[0m                         Traceback (most recent call last)",
            "\u001b[0;32m<ipython-input-68-42206216b64e>\u001b[0m in \u001b[0;36m<cell line: 1>\u001b[0;34m()\u001b[0m\n\u001b[0;32m----> 1\u001b[0;31m \u001b[0mproduct_details\u001b[0m\u001b[0;34m,\u001b[0m \u001b[0msales_data\u001b[0m\u001b[0;34m,\u001b[0m \u001b[0mproduct_descriptions\u001b[0m \u001b[0;34m=\u001b[0m \u001b[0mupdate\u001b[0m\u001b[0;34m(\u001b[0m\u001b[0mproduct_details\u001b[0m\u001b[0;34m,\u001b[0m \u001b[0msales_data\u001b[0m\u001b[0;34m,\u001b[0m \u001b[0mproduct_descriptions\u001b[0m\u001b[0;34m)\u001b[0m\u001b[0;34m\u001b[0m\u001b[0;34m\u001b[0m\u001b[0m\n\u001b[0m",
            "\u001b[0;32m<ipython-input-66-2f9bf2211f62>\u001b[0m in \u001b[0;36mupdate\u001b[0;34m(product_details, sales_data, product_descriptions)\u001b[0m\n\u001b[1;32m      1\u001b[0m \u001b[0;32mdef\u001b[0m \u001b[0mupdate\u001b[0m\u001b[0;34m(\u001b[0m\u001b[0mproduct_details\u001b[0m\u001b[0;34m,\u001b[0m \u001b[0msales_data\u001b[0m\u001b[0;34m,\u001b[0m \u001b[0mproduct_descriptions\u001b[0m\u001b[0;34m)\u001b[0m\u001b[0;34m:\u001b[0m\u001b[0;34m\u001b[0m\u001b[0;34m\u001b[0m\u001b[0m\n\u001b[1;32m      2\u001b[0m         \u001b[0;31m# Step 1: Prompt the user for SKU and validate it\u001b[0m\u001b[0;34m\u001b[0m\u001b[0;34m\u001b[0m\u001b[0m\n\u001b[0;32m----> 3\u001b[0;31m     \u001b[0msku\u001b[0m \u001b[0;34m=\u001b[0m \u001b[0minput\u001b[0m\u001b[0;34m(\u001b[0m\u001b[0;34m\"Enter the product SKU (13 characters long): \"\u001b[0m\u001b[0;34m)\u001b[0m\u001b[0;34m.\u001b[0m\u001b[0mstrip\u001b[0m\u001b[0;34m(\u001b[0m\u001b[0;34m)\u001b[0m\u001b[0;34m\u001b[0m\u001b[0;34m\u001b[0m\u001b[0m\n\u001b[0m\u001b[1;32m      4\u001b[0m     \u001b[0;32mif\u001b[0m \u001b[0mlen\u001b[0m\u001b[0;34m(\u001b[0m\u001b[0msku\u001b[0m\u001b[0;34m)\u001b[0m \u001b[0;34m!=\u001b[0m \u001b[0;36m13\u001b[0m\u001b[0;34m:\u001b[0m\u001b[0;34m\u001b[0m\u001b[0;34m\u001b[0m\u001b[0m\n\u001b[1;32m      5\u001b[0m         \u001b[0mprint\u001b[0m\u001b[0;34m(\u001b[0m\u001b[0;34m\"Error: SKU must be exactly 13 characters long.\"\u001b[0m\u001b[0;34m)\u001b[0m\u001b[0;34m\u001b[0m\u001b[0;34m\u001b[0m\u001b[0m\n",
            "\u001b[0;32m/usr/local/lib/python3.10/dist-packages/ipykernel/kernelbase.py\u001b[0m in \u001b[0;36mraw_input\u001b[0;34m(self, prompt)\u001b[0m\n\u001b[1;32m    849\u001b[0m                 \u001b[0;34m\"raw_input was called, but this frontend does not support input requests.\"\u001b[0m\u001b[0;34m\u001b[0m\u001b[0;34m\u001b[0m\u001b[0m\n\u001b[1;32m    850\u001b[0m             )\n\u001b[0;32m--> 851\u001b[0;31m         return self._input_request(str(prompt),\n\u001b[0m\u001b[1;32m    852\u001b[0m             \u001b[0mself\u001b[0m\u001b[0;34m.\u001b[0m\u001b[0m_parent_ident\u001b[0m\u001b[0;34m,\u001b[0m\u001b[0;34m\u001b[0m\u001b[0;34m\u001b[0m\u001b[0m\n\u001b[1;32m    853\u001b[0m             \u001b[0mself\u001b[0m\u001b[0;34m.\u001b[0m\u001b[0m_parent_header\u001b[0m\u001b[0;34m,\u001b[0m\u001b[0;34m\u001b[0m\u001b[0;34m\u001b[0m\u001b[0m\n",
            "\u001b[0;32m/usr/local/lib/python3.10/dist-packages/ipykernel/kernelbase.py\u001b[0m in \u001b[0;36m_input_request\u001b[0;34m(self, prompt, ident, parent, password)\u001b[0m\n\u001b[1;32m    893\u001b[0m             \u001b[0;32mexcept\u001b[0m \u001b[0mKeyboardInterrupt\u001b[0m\u001b[0;34m:\u001b[0m\u001b[0;34m\u001b[0m\u001b[0;34m\u001b[0m\u001b[0m\n\u001b[1;32m    894\u001b[0m                 \u001b[0;31m# re-raise KeyboardInterrupt, to truncate traceback\u001b[0m\u001b[0;34m\u001b[0m\u001b[0;34m\u001b[0m\u001b[0m\n\u001b[0;32m--> 895\u001b[0;31m                 \u001b[0;32mraise\u001b[0m \u001b[0mKeyboardInterrupt\u001b[0m\u001b[0;34m(\u001b[0m\u001b[0;34m\"Interrupted by user\"\u001b[0m\u001b[0;34m)\u001b[0m \u001b[0;32mfrom\u001b[0m \u001b[0;32mNone\u001b[0m\u001b[0;34m\u001b[0m\u001b[0;34m\u001b[0m\u001b[0m\n\u001b[0m\u001b[1;32m    896\u001b[0m             \u001b[0;32mexcept\u001b[0m \u001b[0mException\u001b[0m \u001b[0;32mas\u001b[0m \u001b[0me\u001b[0m\u001b[0;34m:\u001b[0m\u001b[0;34m\u001b[0m\u001b[0;34m\u001b[0m\u001b[0m\n\u001b[1;32m    897\u001b[0m                 \u001b[0mself\u001b[0m\u001b[0;34m.\u001b[0m\u001b[0mlog\u001b[0m\u001b[0;34m.\u001b[0m\u001b[0mwarning\u001b[0m\u001b[0;34m(\u001b[0m\u001b[0;34m\"Invalid Message:\"\u001b[0m\u001b[0;34m,\u001b[0m \u001b[0mexc_info\u001b[0m\u001b[0;34m=\u001b[0m\u001b[0;32mTrue\u001b[0m\u001b[0;34m)\u001b[0m\u001b[0;34m\u001b[0m\u001b[0;34m\u001b[0m\u001b[0m\n",
            "\u001b[0;31mKeyboardInterrupt\u001b[0m: Interrupted by user"
          ]
        }
      ]
    },
    {
      "cell_type": "code",
      "source": [
        "import os\n",
        "import json\n",
        "import csv\n",
        "\n",
        "def dump_data(sales_data, product_details, product_descriptions, main_folder):\n",
        "    \"\"\"\n",
        "    Dump product details, sales data, and product descriptions to files.\n",
        "\n",
        "    Parameters:\n",
        "        sales_data (dict): The dictionary containing sales data.\n",
        "        product_details (dict): The dictionary containing product details.\n",
        "        product_descriptions (dict): The dictionary containing product descriptions.\n",
        "        main_folder (str): The location of the main folder containing product_details and product_descriptions folders.\n",
        "    \"\"\"\n",
        "\n",
        "    # Ensure that the 'product_details' and 'product_descriptions' subfolders exist, if not, create them\n",
        "    product_details_folder = os.path.join(main_folder, 'product_details')\n",
        "    product_descriptions_folder = os.path.join(main_folder, 'product_descriptions')\n",
        "\n",
        "    # Create the subfolders if they don't exist\n",
        "    if not os.path.exists(product_details_folder):\n",
        "        os.makedirs(product_details_folder)\n",
        "    if not os.path.exists(product_descriptions_folder):\n",
        "        os.makedirs(product_descriptions_folder)\n",
        "\n",
        "    # Dump sales data into sales_data.csv\n",
        "    sales_data_file = os.path.join(main_folder, 'sales_data.csv')\n",
        "\n",
        "    # Writing sales data to CSV\n",
        "    with open(sales_data_file, 'w', newline='') as csvfile:\n",
        "        fieldnames = ['SKU'] + [f'Day {i+1}' for i in range(14)]  # \"Day 1\" to \"Day 14\"\n",
        "        writer = csv.DictWriter(csvfile, fieldnames=fieldnames)\n",
        "\n",
        "        writer.writeheader()\n",
        "        for sku, quantities in sales_data.items():\n",
        "            row = {'SKU': sku}\n",
        "            for i in range(14):\n",
        "                row[f'Day {i+1}'] = quantities[i]\n",
        "            writer.writerow(row)\n",
        "\n",
        "    print(f\"Sales data saved to {sales_data_file}\")\n",
        "\n",
        "    # Dump product details into separate JSON files\n",
        "    for sku, details in product_details.items():\n",
        "        details_file = os.path.join(product_details_folder, f'details_{sku}.json')\n",
        "        with open(details_file, 'w') as json_file:\n",
        "            json.dump(details, json_file, indent=4)\n",
        "        print(f\"Product details for SKU {sku} saved to {details_file}\")\n",
        "\n",
        "    # Dump product descriptions into separate TXT files\n",
        "    for sku, description in product_descriptions.items():\n",
        "        description_file = os.path.join(product_descriptions_folder, f'description_{sku}.txt')\n",
        "        with open(description_file, 'w') as txt_file:\n",
        "            txt_file.write(description)\n",
        "        print(f\"Product description for SKU {sku} saved to {description_file}\")"
      ],
      "metadata": {
        "id": "8ksYPNaNQmAK"
      },
      "execution_count": 105,
      "outputs": []
    },
    {
      "cell_type": "code",
      "source": [
        "sales_data = {\n",
        "    \"CMWKCILOP27KF\": [8, 14, 16, 7, 15, 21, 14, 16, 32, 29, 26, 30, 25, 22],\n",
        "    \"XYZ123456789\": [12, 8, 14, 18, 22, 17, 19, 15, 10, 11, 16, 14, 13, 9]\n",
        "}\n",
        "\n",
        "product_details = {\n",
        "    \"CMWKCILOP27KF\": {\n",
        "        \"name\": \"Pokemon Card\",\n",
        "        \"brand\": \"GameFreak\",\n",
        "        \"model\": \"ScarletViolet151\",\n",
        "        \"specifications\": \"Genuine, TCG, English\",\n",
        "        \"price\": 1.99,\n",
        "        \"availability\": \"In stock\"\n",
        "    },\n",
        "    \"XYZ123456789\": {\n",
        "        \"name\": \"Charizard Card\",\n",
        "        \"brand\": \"GameFreak\",\n",
        "        \"model\": \"BaseSet151\",\n",
        "        \"specifications\": \"Genuine, TCG, English\",\n",
        "        \"price\": 2.49,\n",
        "        \"availability\": \"Out of stock\"\n",
        "    }\n",
        "}\n",
        "\n",
        "product_descriptions = {\n",
        "    \"CMWKCILOP27KF\": \"Original Pokemon TCG Pikachu card\",\n",
        "    \"XYZ123456789\": \"Rare Charizard TCG card\"\n",
        "}\n",
        "\n",
        "main_folder = \"/content/mainfolder\""
      ],
      "metadata": {
        "id": "yTlr4X4dQ5ei"
      },
      "execution_count": 106,
      "outputs": []
    },
    {
      "cell_type": "code",
      "source": [
        "dump_data(sales_data, product_details, product_descriptions, main_folder)"
      ],
      "metadata": {
        "colab": {
          "base_uri": "https://localhost:8080/"
        },
        "id": "qlX33KngdKRh",
        "outputId": "ba3fdc10-d4a0-4dd0-9b19-726a2bd04357"
      },
      "execution_count": 107,
      "outputs": [
        {
          "output_type": "stream",
          "name": "stdout",
          "text": [
            "Sales data saved to /content/mainfolder/sales_data.csv\n",
            "Product details for SKU CMWKCILOP27KF saved to /content/mainfolder/product_details/details_CMWKCILOP27KF.json\n",
            "Product details for SKU XYZ123456789 saved to /content/mainfolder/product_details/details_XYZ123456789.json\n",
            "Product description for SKU CMWKCILOP27KF saved to /content/mainfolder/product_descriptions/description_CMWKCILOP27KF.txt\n",
            "Product description for SKU XYZ123456789 saved to /content/mainfolder/product_descriptions/description_XYZ123456789.txt\n"
          ]
        }
      ]
    },
    {
      "cell_type": "code",
      "source": [],
      "metadata": {
        "id": "af4ol4r8fy5J"
      },
      "execution_count": null,
      "outputs": []
    }
  ]
}